{
 "cells": [
  {
   "cell_type": "markdown",
   "id": "187cd554",
   "metadata": {},
   "source": [
    "https://www.kaggle.com/datasets/piterfm/2022-ukraine-russian-war/download"
   ]
  },
  {
   "cell_type": "code",
   "execution_count": 3,
   "id": "b75749a7",
   "metadata": {},
   "outputs": [],
   "source": [
    "import requests"
   ]
  },
  {
   "cell_type": "code",
   "execution_count": 5,
   "id": "0f486224",
   "metadata": {},
   "outputs": [],
   "source": [
    "url = 'https://www.kaggle.com/datasets/piterfm/2022-ukraine-russian-war?select=russia_losses_equipment.csv'\n"
   ]
  },
  {
   "cell_type": "code",
   "execution_count": 7,
   "id": "9ed63e57",
   "metadata": {},
   "outputs": [
    {
     "data": {
      "text/plain": [
       "{'Content-Type': 'text/html; charset=utf-8', 'Date': 'Tue, 14 Jun 2022 14:35:08 GMT', 'Cache-Control': 'no-cache, no-store', 'Content-Encoding': 'gzip', 'Pragma': 'no-cache', 'Set-Cookie': 'CSRF-TOKEN=CfDJ8Cs-Lz1EcsZJoJpPxm8uGgCq6Ii5H4AaaiNO-5ltc0Cd39syZNKlnojC68X65Ve6cyB3FOgPMEeQNE-8Vcr_fBifGJkkFLirz1ThR-4esQ; path=/; secure; samesite=lax; httponly, XSRF-TOKEN=CfDJ8Cs-Lz1EcsZJoJpPxm8uGgBu0V_wOiey6gY_XJdlqxE3VzFRRGPIe-aLjRLZkhuRd7QT2Sbhk3lHTcU81XbMPJjKKESIYiwxxUoQai-DIgr3iQ; path=/; secure; samesite=lax, CLIENT-TOKEN=eyJhbGciOiJub25lIiwidHlwIjoiSldUIn0.eyJpc3MiOiJrYWdnbGUiLCJhdWQiOiJjbGllbnQiLCJzdWIiOm51bGwsIm5idCI6IjIwMjItMDYtMTRUMTQ6MzU6MDkuMjQ5Nzg0NVoiLCJpYXQiOiIyMDIyLTA2LTE0VDE0OjM1OjA5LjI0OTc4NDVaIiwianRpIjoiZTA5Zjg3ZjYtYzM3Zi00NjAzLWExYjItNDVkZmM4MTRhZDE0IiwiZXhwIjoiMjAyMi0wNy0xNFQxNDozNTowOS4yNDk3ODQ1WiIsImFub24iOnRydWUsImZmIjpbIktlcm5lbHNTYXZlVG9HaXRIdWIiLCJLZXJuZWxzTHNwQXV0b2NvbXBsZXRlIiwiR2Nsb3VkS2VybmVsSW50ZWciLCJLZXJuZWxFZGl0b3JLaXR0eU1vZGUiLCJDYWlwRXhwb3J0IiwiQ2FpcE51ZGdlIiwiS2VybmVsc0ZpcmViYXNlTG9uZ1BvbGxpbmciLCJEYXRhc2V0c0RhdGFFeHBsb3JlclYzQ2hlY2tGb3JVcGRhdGVzIiwiRGF0YXNldHNEYXRhRXhwbG9yZXJWM0NoZWNrRm9yVXBkYXRlc0luQmFja2dyb3VuZCIsIktlcm5lbHNTdGFja092ZXJmbG93U2VhcmNoIiwiS2VybmVsRWRpdG9yU2NyaXB0VGlwcyIsIktlcm5lbHNNYXRlcmlhbExpc3RpbmciLCJLZXJuZWxzRW1wdHlTdGF0ZSIsIkRhdGFzZXRzTWF0ZXJpYWxEZXRhaWwiLCJEYXRhc2V0c01hdGVyaWFsTGlzdENvbXBvbmVudCIsIkRhdGFzZXRzU2hhcmVkV2l0aFlvdSIsIkNvbXBldGl0aW9uRGF0YXNldHMiLCJUUFVDb21taXRTY2hlZHVsaW5nIiwiS2VybmVsRWRpdG9yRm9yY2VUaGVtZVN5bmMiLCJLTUxlYXJuRGV0YWlsIiwiRnJvbnRlbmRFcnJvclJlcG9ydGluZyIsIkZyb250ZW5kQ29uc29sZUVycm9yUmVwb3J0aW5nIiwiTG93ZXJEYXRhc2V0SGVhZGVySW1hZ2VNaW5SZXMiLCJGaWx0ZXJGb3J1bUltYWdlcyIsIlBob25lVmVyaWZ5Rm9yQ29tbWVudHMiLCJQaG9uZVZlcmlmeUZvck5ld1RvcGljIiwiSW5DbGFzc1RvQ29tbXVuaXR5UGFnZXMiLCJQaW5EYXRhc2V0VmVyc2lvbiIsIlVzZVN0YXRpY1JvdXRpbmdVcmxGb3JtYXQiLCJMaWhwTmV3TW9kdWxlcyIsIkxpaHBOZXh0U3RlcHNNZXRyaWNzIl0sImZmZCI6eyJLZXJuZWxFZGl0b3JBdXRvc2F2ZVRocm90dGxlTXMiOiIzMDAwMCIsIkZyb250ZW5kRXJyb3JSZXBvcnRpbmdTYW1wbGVSYXRlIjoiMC4wMSIsIkVtZXJnZW5jeUFsZXJ0QmFubmVyIjoieyB9IiwiQ2xpZW50UnBjUmF0ZUxpbWl0IjoiNDAiLCJGZWF0dXJlZENvbW11bml0eUNvbXBldGl0aW9ucyI6IjMzNjExLDMzNjg5LDM0MTg5LDM1MDM3LDM1NDI3LDM1MjkxLCAzNTc5NywgMzU3NjgsIDM1MzI1LCAzNTQyOSwgMzQ5MDksIDMzNTc5LDM3MDY5LDM2MTYxIiwiQWRkRmVhdHVyZUZsYWdzVG9QYWdlTG9hZFRhZyI6ImRhdGFzZXRzTWF0ZXJpYWxEZXRhaWwifSwicGlkIjoia2FnZ2xlLTE2MTYwNyIsInN2YyI6IndlYi1mZSIsInNkYWsiOiJBSXphU3lBNGVOcVVkUlJza0pzQ1pXVnotcUw2NTVYYTVKRU1yZUUiLCJibGQiOiIxZDdmZjFhZGJjNzI5NWViNzM1NzkzNjYwMzFhY2Y1YjYyODc4ZDE1In0.; path=/; secure; samesite=lax', 'Vary': 'Accept-Encoding', 'Turbolinks-Location': 'https://www.kaggle.com/account/login?titleType=dataset-downloads&showDatasetDownloadSkip=False&messageId=datasetsWelcome&returnUrl=%2Fdatasets%2Fpiterfm%2F2022-ukraine-russian-war%3Fresource%3Ddownload', 'X-Frame-Options': 'SAMEORIGIN', 'Strict-Transport-Security': 'max-age=63072000; includeSubDomains; preload', 'Content-Security-Policy': \"object-src 'none'; script-src 'nonce-GfcZzoAswDIgqXcBYdIQww==' 'report-sample' 'unsafe-inline' 'unsafe-eval' 'strict-dynamic' https: http:; frame-src 'self' https://www.kaggleusercontent.com https://www.youtube.com/embed/ https://polygraph-cool.github.io https://www.google.com/recaptcha/ https://form.jotform.com https://submit.jotform.us https://submit.jotformpro.com https://submit.jotform.com https://www.docdroid.com https://www.docdroid.net https://kaggle-static.storage.googleapis.com https://kaggle-static-staging.storage.googleapis.com https://kkb-dev.jupyter-proxy.kaggle.net https://kkb-staging.jupyter-proxy.kaggle.net https://kkb-production.jupyter-proxy.kaggle.net https://kkb-dev.firebaseapp.com https://kkb-staging.firebaseapp.com https://kkb-production.firebaseapp.com https://kaggle-metastore-test.firebaseapp.com https://kaggle-metastore.firebaseapp.com https://apis.google.com https://content-sheets.googleapis.com/ https://accounts.google.com/ https://storage.googleapis.com https://docs.google.com https://drive.google.com; base-uri 'none'; report-uri https://csp.withgoogle.com/csp/kaggle/20201130;\", 'X-Content-Type-Options': 'nosniff', 'Referrer-Policy': 'strict-origin-when-cross-origin', 'Via': '1.1 google', 'Alt-Svc': 'h3=\":443\"; ma=2592000,h3-29=\":443\"; ma=2592000', 'Transfer-Encoding': 'chunked'}"
      ]
     },
     "execution_count": 7,
     "metadata": {},
     "output_type": "execute_result"
    }
   ],
   "source": []
  },
  {
   "cell_type": "code",
   "execution_count": null,
   "id": "4abcb277",
   "metadata": {},
   "outputs": [],
   "source": []
  }
 ],
 "metadata": {
  "kernelspec": {
   "display_name": "Python 3 (ipykernel)",
   "language": "python",
   "name": "python3"
  },
  "language_info": {
   "codemirror_mode": {
    "name": "ipython",
    "version": 3
   },
   "file_extension": ".py",
   "mimetype": "text/x-python",
   "name": "python",
   "nbconvert_exporter": "python",
   "pygments_lexer": "ipython3",
   "version": "3.10.4"
  }
 },
 "nbformat": 4,
 "nbformat_minor": 5
}
